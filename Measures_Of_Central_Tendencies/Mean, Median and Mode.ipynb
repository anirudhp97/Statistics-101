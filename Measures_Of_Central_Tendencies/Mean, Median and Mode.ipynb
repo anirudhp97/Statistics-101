{
 "cells": [
  {
   "cell_type": "markdown",
   "metadata": {},
   "source": [
    "# Measures Of Central Tendency\n",
    "\n",
    "This Jupyter Notebook covers the concept of measure of central tendency - Mean, Median and Mode. These concepts pave way to more advanced statistics."
   ]
  },
  {
   "cell_type": "markdown",
   "metadata": {},
   "source": [
    "# Mean\n",
    "\n",
    "It is the sum of n observations divided by total number of observations. It is used to find the central value within a set of numbers. One of the practical use cases of finding mean is to fill in the missing values in the dataset. It should be kept in mind that the observations must be of the same range. Outliers can skew the value of mean and an incorrect value might be added in the missing observations."
   ]
  },
  {
   "cell_type": "code",
   "execution_count": 1,
   "metadata": {},
   "outputs": [
    {
     "name": "stdout",
     "output_type": "stream",
     "text": [
      "Mean of N is:30.0\n"
     ]
    }
   ],
   "source": [
    "# Declare and store some set of numbers in a list\n",
    "N = [10, 20, 30, 40, 50]\n",
    "\n",
    "# Find the sum of these numbers\n",
    "Sum_N = sum(N)\n",
    "\n",
    "# Divide the sum by total number of observations\n",
    "Mean_N = Sum_N / len(N)\n",
    "print(\"Mean of N is:\" + str(Mean_N))"
   ]
  },
  {
   "cell_type": "markdown",
   "metadata": {},
   "source": [
    "## Weighted Mean\n",
    "\n",
    "Suppose we have two columns, say employee salary and employee number, mean is not reliable since they do not represent different groups that we are interested in measuring. To solve this issue, we use something known as 'Weighted Mean'. We multiply something known as 'weights' (w) to it's corresponding value and calculate the mean. "
   ]
  },
  {
   "cell_type": "code",
   "execution_count": 2,
   "metadata": {},
   "outputs": [
    {
     "data": {
      "text/html": [
       "<div>\n",
       "<style scoped>\n",
       "    .dataframe tbody tr th:only-of-type {\n",
       "        vertical-align: middle;\n",
       "    }\n",
       "\n",
       "    .dataframe tbody tr th {\n",
       "        vertical-align: top;\n",
       "    }\n",
       "\n",
       "    .dataframe thead th {\n",
       "        text-align: right;\n",
       "    }\n",
       "</style>\n",
       "<table border=\"1\" class=\"dataframe\">\n",
       "  <thead>\n",
       "    <tr style=\"text-align: right;\">\n",
       "      <th></th>\n",
       "      <th>Salary</th>\n",
       "      <th>Employee_Number</th>\n",
       "    </tr>\n",
       "  </thead>\n",
       "  <tbody>\n",
       "    <tr>\n",
       "      <th>0</th>\n",
       "      <td>10000</td>\n",
       "      <td>20</td>\n",
       "    </tr>\n",
       "    <tr>\n",
       "      <th>1</th>\n",
       "      <td>20000</td>\n",
       "      <td>30</td>\n",
       "    </tr>\n",
       "    <tr>\n",
       "      <th>2</th>\n",
       "      <td>30000</td>\n",
       "      <td>50</td>\n",
       "    </tr>\n",
       "    <tr>\n",
       "      <th>3</th>\n",
       "      <td>40000</td>\n",
       "      <td>10</td>\n",
       "    </tr>\n",
       "    <tr>\n",
       "      <th>4</th>\n",
       "      <td>50000</td>\n",
       "      <td>40</td>\n",
       "    </tr>\n",
       "  </tbody>\n",
       "</table>\n",
       "</div>"
      ],
      "text/plain": [
       "   Salary  Employee_Number\n",
       "0   10000               20\n",
       "1   20000               30\n",
       "2   30000               50\n",
       "3   40000               10\n",
       "4   50000               40"
      ]
     },
     "execution_count": 2,
     "metadata": {},
     "output_type": "execute_result"
    }
   ],
   "source": [
    "# Importing Pandas library and creating Employee dataframe\n",
    "\n",
    "import pandas as pd\n",
    "\n",
    "Data = {'Salary':[10000, 20000, 30000, 40000, 50000],'Employee_Number':[20, 30, 50, 10, 40]}\n",
    "Employee_Data = pd.DataFrame(Data,columns = ['Salary','Employee_Number'])\n",
    "Employee_Data"
   ]
  },
  {
   "cell_type": "code",
   "execution_count": 3,
   "metadata": {},
   "outputs": [
    {
     "name": "stdout",
     "output_type": "stream",
     "text": [
      "Weighted Mean is:31333.33\n"
     ]
    }
   ],
   "source": [
    "# Calculating weighted mean using Numpy's average function.\n",
    "# Weighted_Mean = (10000*20 + 20000*30 + 30000*50 + 40000*10 + 50000*40)/5\n",
    "\n",
    "import numpy as np\n",
    "\n",
    "Weighted_Mean = round(np.average(Employee_Data['Salary'], weights = Employee_Data['Employee_Number']),2)\n",
    "\n",
    "print(\"Weighted Mean is:\" + str(Weighted_Mean))"
   ]
  },
  {
   "cell_type": "markdown",
   "metadata": {},
   "source": [
    "## Trimmed Mean \n",
    "Trimmed Mean is another variety of mean where the numbers are sorted, if not sorted, and then fixed number of values are removed at either end and then mean is calculated. This removes the effect of outliers, if any."
   ]
  },
  {
   "cell_type": "code",
   "execution_count": 4,
   "metadata": {},
   "outputs": [
    {
     "name": "stdout",
     "output_type": "stream",
     "text": [
      "Trimmed N is:35.0\n"
     ]
    }
   ],
   "source": [
    "# As mentioned in the explanation, first we sort the list and then we trim the values at either end of the list \n",
    "# (in this case 1 and 1000). Had either 1 or 1000 had been in the list while calculating the mean, the calculated result\n",
    "# would have been drastically different.\n",
    "\n",
    "N = [40, 50, 60, 1, 1000, 30, 20, 10]\n",
    "\n",
    "Sorted_N = sorted(N)[1:-1]\n",
    "\n",
    "Trimmed_Mean = sum(Sorted_N) / len(Sorted_N)\n",
    "\n",
    "print(\"Trimmed N is:\" + str(Trimmed_Mean))"
   ]
  },
  {
   "cell_type": "markdown",
   "metadata": {},
   "source": [
    "# Median \n",
    "It is the midpoint value in a list of numbers for which an equal number of samples are less than and greater than the value. Unlike Mean, Median is not affected by outliers. One should always keep in mind while calculating median is that the numbers should always be sorted before finding median."
   ]
  },
  {
   "cell_type": "code",
   "execution_count": 5,
   "metadata": {},
   "outputs": [
    {
     "name": "stdout",
     "output_type": "stream",
     "text": [
      "List after sorting:[1, 10, 20, 30, 40, 50, 60, 1000]\n",
      "Median is: 35.0\n"
     ]
    }
   ],
   "source": [
    "# First step to calculate median is to sort the values. If there are odd number of values in the list the finding the median\n",
    "# is pretty straight forward. If there are even number of values in the list then two central values are identified, and then\n",
    "# the mean of those two values are calculated.\n",
    "\n",
    "N = [40, 50, 60, 1, 1000, 30, 20, 10]\n",
    "\n",
    "Sorted_N = sorted(N)\n",
    "\n",
    "if len(Sorted_N) % 2 == 0:\n",
    "   first_median = Sorted_N[len(Sorted_N) // 2]\n",
    "   second_median = Sorted_N[len(Sorted_N) // 2 - 1]\n",
    "   median = (first_median + second_median) / 2\n",
    "else:\n",
    "   median = Sorted_N[len(Sorted_N) // 2]\n",
    "\n",
    "print(\"List after sorting:\" + str(Sorted_N))\n",
    "print(\"Median is: \" + str(median))"
   ]
  },
  {
   "cell_type": "markdown",
   "metadata": {},
   "source": [
    "# Mode \n",
    "It is the number of elements occuring most frequently in a list. This can be used to calculate any duplicate values in your dataset."
   ]
  },
  {
   "cell_type": "code",
   "execution_count": 6,
   "metadata": {},
   "outputs": [
    {
     "name": "stdout",
     "output_type": "stream",
     "text": [
      "Mode is:10\n"
     ]
    }
   ],
   "source": [
    "# Most occuring item in the list is 10. Thus, 10 will be printed.\n",
    "\n",
    "import statistics\n",
    "\n",
    "N = [10, 20, 30, 40, 10, 50, 60, 10]\n",
    "\n",
    "Mode = statistics.mode(N)\n",
    "\n",
    "print(\"Mode is:\" + str(Mode))"
   ]
  },
  {
   "cell_type": "code",
   "execution_count": 7,
   "metadata": {},
   "outputs": [
    {
     "name": "stdout",
     "output_type": "stream",
     "text": [
      "Multiple Mode is:[10, 20]\n"
     ]
    }
   ],
   "source": [
    "# Multiple mode can be calculated where multiple items occur equal number of times. This is known as MultiMode.\n",
    "\n",
    "N = [10, 20, 30, 40, 10, 50, 60, 10, 20, 70, 20]\n",
    "\n",
    "MultiMode = statistics.multimode(N)\n",
    "\n",
    "print(\"Multiple Mode is:\" + str(MultiMode))"
   ]
  }
 ],
 "metadata": {
  "kernelspec": {
   "display_name": "Python 3",
   "language": "python",
   "name": "python3"
  },
  "language_info": {
   "codemirror_mode": {
    "name": "ipython",
    "version": 3
   },
   "file_extension": ".py",
   "mimetype": "text/x-python",
   "name": "python",
   "nbconvert_exporter": "python",
   "pygments_lexer": "ipython3",
   "version": "3.8.3"
  }
 },
 "nbformat": 4,
 "nbformat_minor": 4
}
