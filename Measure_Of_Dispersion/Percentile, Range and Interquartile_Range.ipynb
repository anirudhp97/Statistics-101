{
 "cells": [
  {
   "cell_type": "markdown",
   "metadata": {},
   "source": [
    "This Notebook covers the concept of Percentile, Range and Interquartile range. These concepts fall under the topic of Measure Of Dispersion."
   ]
  },
  {
   "cell_type": "markdown",
   "metadata": {},
   "source": [
    "# Percentile\n",
    "\n",
    "It is defined as the percentage of values found under the specific values. They are commonly reported as 'Quartiles' (25th, 50th and 75th percentile). The 50th percentile is also known as Median. Percentiles are extremely valuable in summarizing the tails (outer range) of the data distribution. <br>\n",
    "\n",
    "For the given example in Python, Percentile() of the numpy library will be used. <br>\n",
    "Formula used to calculate the percentile is as follows: <br>\n",
    "Percentile = i + (j-i) * fraction\n",
    "Link for more information on numpy percentile - https://numpy.org/doc/stable/reference/generated/numpy.percentile.html"
   ]
  },
  {
   "cell_type": "code",
   "execution_count": 2,
   "metadata": {},
   "outputs": [
    {
     "name": "stdout",
     "output_type": "stream",
     "text": [
      "25th Percentile of the List is: 32.5\n",
      "50th Percentile of the List is: 55.0\n",
      "75th Percentile of the List is: 77.5\n"
     ]
    }
   ],
   "source": [
    "import numpy as np\n",
    "\n",
    "List = [10, 20, 30, 40, 50, 60, 70, 80, 90, 100]\n",
    "\n",
    "# distance between first and the last element (d) = 10 - 1 = 9\n",
    "# Index of the 25th percentile = 9 * 0.25 = 2.25\n",
    "# List[2] = 30 and list[3] = 40\n",
    "# Using Linear Interpolation:\n",
    "# 30 + 0.25 * (40 - 30) = 32.5\n",
    "print(\"25th Percentile of the List is:\", np.percentile(List, 25))\n",
    "\n",
    "# distance between first and the last element (d) = 10 - 1 = 9\n",
    "# Index of the 25th percentile = 9 * 0.50 = 4.5\n",
    "# List[4] = 50 and list[5] = 60\n",
    "# Using Linear Interpolation:\n",
    "# 50 + 0.50 * (60 - 50) = 55\n",
    "print(\"50th Percentile of the List is:\", np.percentile(List, 50))\n",
    "\n",
    "# distance between first and the last element (d) = 10 - 1 = 9\n",
    "# Index of the 25th percentile = 9 * 0.75 = 6.75\n",
    "# List[6] = 70 and list[7] = 80\n",
    "# Using Linear Interpolation:\n",
    "# 70 + 0.75 * (80 - 70) = 77.5\n",
    "print(\"75th Percentile of the List is:\", np.percentile(List, 75))"
   ]
  },
  {
   "cell_type": "markdown",
   "metadata": {},
   "source": [
    "# Range\n",
    "\n",
    "It is the difference between the maximum value and the minimum value in the list. It is extremely sensitive to outliers and thus not a useful tool for general measure of dispersion in data."
   ]
  },
  {
   "cell_type": "code",
   "execution_count": 4,
   "metadata": {},
   "outputs": [
    {
     "name": "stdout",
     "output_type": "stream",
     "text": [
      "Range is:90\n"
     ]
    }
   ],
   "source": [
    "List = [10, 20, 30, 40, 50, 60, 70, 80, 90, 100]\n",
    "\n",
    "Range = max(List) - min(List)\n",
    "print(\"Range is:\" + str(Range))"
   ]
  },
  {
   "cell_type": "markdown",
   "metadata": {},
   "source": [
    "# Quartiles and InterQuartile Range (IQR)\n",
    "\n",
    "Quartiles of an ordered dataset are the three points which split the dataset into four equal groups.\n",
    "The three quartiles are defined as follows: <br>\n",
    "Q1 - The first quartile is the middle number between the smallest number and it's median in a list. <br>\n",
    "Q2 - The second quartile is the median of the list.\n",
    "Q3 - The third quartile is the middle number between the list's median and it's larget number.</br>\n",
    "\n",
    "InterQuartile Range is the difference between first quartile (Q1) and third quartile (Q3)."
   ]
  },
  {
   "cell_type": "code",
   "execution_count": 5,
   "metadata": {},
   "outputs": [
    {
     "name": "stdout",
     "output_type": "stream",
     "text": [
      "Q1 is:30.0\n",
      "Q3 is:80.0\n",
      "InterQuartile Range is:50.0\n"
     ]
    }
   ],
   "source": [
    "# In this example, the list is already sorted. If they are not sorted then we need to sort them first before finding IQR.\n",
    "\n",
    "List = [10, 20, 30, 40, 50, 60, 70, 80, 90, 100]\n",
    "\n",
    "Q1 = np.median(List[:5])\n",
    "print(\"Q1 is:\" + str(Q1))\n",
    "\n",
    "Q3 = np.median(List[5:])\n",
    "print(\"Q3 is:\" + str(Q3))\n",
    "\n",
    "IQR = Q3 - Q1\n",
    "print(\"InterQuartile Range is:\" + str(IQR))"
   ]
  },
  {
   "cell_type": "code",
   "execution_count": null,
   "metadata": {},
   "outputs": [],
   "source": []
  }
 ],
 "metadata": {
  "kernelspec": {
   "display_name": "Python 3",
   "language": "python",
   "name": "python3"
  },
  "language_info": {
   "codemirror_mode": {
    "name": "ipython",
    "version": 3
   },
   "file_extension": ".py",
   "mimetype": "text/x-python",
   "name": "python",
   "nbconvert_exporter": "python",
   "pygments_lexer": "ipython3",
   "version": "3.8.3"
  }
 },
 "nbformat": 4,
 "nbformat_minor": 4
}
