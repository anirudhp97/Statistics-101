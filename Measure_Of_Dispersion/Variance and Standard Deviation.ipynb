{
 "cells": [
  {
   "cell_type": "markdown",
   "metadata": {},
   "source": [
    "This Jupyter Notebook covers the concept of Measure of Dispersion. It is mainly used to understand how spread out the data is. The concepts will be covered as follows: Variance and Standard Deviation."
   ]
  },
  {
   "cell_type": "markdown",
   "metadata": {},
   "source": [
    "Variance - It is the measure of dispersion between the values in the dataset. Mathematically speaking, it is sum of the squared deviations from the mean divided by n-1, where n is the number of data values\n",
    "\n",
    "Steps to calculate Variance: <br>\n",
    "Step 1: Find a mean of the set of data. <br>\n",
    "Step 2: Subtract each number from the mean (Deviation). <br>\n",
    "Step 3: Square the result. <br>\n",
    "Step 4: Add the result. <br>\n",
    "Step 5: Divide the sum by total number of data values in the dataset. <br>"
   ]
  },
  {
   "cell_type": "code",
   "execution_count": 1,
   "metadata": {},
   "outputs": [
    {
     "name": "stdout",
     "output_type": "stream",
     "text": [
      "Biased Variance is:5055.555555555556\n"
     ]
    }
   ],
   "source": [
    "from statistics import mean \n",
    "\n",
    "# Creating the list\n",
    "List = [10, 20, 30, 90, 200, 150]\n",
    "\n",
    "# Finding the mean of the list\n",
    "Mean = mean(List)\n",
    "\n",
    "# Subtracting the mean, squaring the result and dividing the result by the total length of the list\n",
    "Biased_Variance = sum((i - Mean) ** 2 for i in List) / len(List)\n",
    "print(\"Biased Variance is:\" + str(Biased_Variance))"
   ]
  },
  {
   "cell_type": "markdown",
   "metadata": {},
   "source": [
    "Notice that the above calculated example is printed as biased variance. This is because when we divide sum of the squared results with the total length (n), we get a biased estimate of variance and underestimates variability. Thus, it is of popular opinion to divide it by n-1, instead of n. This is known as unbiased variance. "
   ]
  },
  {
   "cell_type": "code",
   "execution_count": 2,
   "metadata": {},
   "outputs": [
    {
     "name": "stdout",
     "output_type": "stream",
     "text": [
      "Unbiased Variance is:6066.666666666666\n"
     ]
    }
   ],
   "source": [
    "List = [10, 20, 30, 90, 200, 150]\n",
    "\n",
    "Mean = mean(List)\n",
    "\n",
    "Squared_Sum = sum((i - Mean) ** 2 for i in List)\n",
    "Unbiased_Variance = (Squared_Sum / (len(List) - 1))\n",
    "print(\"Unbiased Variance is:\" + str(Unbiased_Variance))"
   ]
  },
  {
   "cell_type": "markdown",
   "metadata": {},
   "source": [
    "Standard Deviation - It quantifies the amount of variation in a set of data values, given a dataset X, of size n. It tells you on average, how far each value lies from the mean.\n",
    "\n",
    "Steps to calculate Standard Deviation: <br>\n",
    "Step 1: Find the mean. <br>\n",
    "Step 2: Subtract each number from the mean (Deviation). <br>\n",
    "Step 3: Find the square of each deviation. <br>\n",
    "Step 4: Find the sum of the squares. <br>\n",
    "Step 5: Find the variance. <br>\n",
    "Step 6: Find the square root of the variance. <br>"
   ]
  },
  {
   "cell_type": "code",
   "execution_count": 3,
   "metadata": {},
   "outputs": [
    {
     "name": "stdout",
     "output_type": "stream",
     "text": [
      "Standard Deviation is:77.88880963698615\n"
     ]
    }
   ],
   "source": [
    "import math\n",
    "\n",
    "List = [10, 20, 30, 90, 200, 150]\n",
    "\n",
    "Mean = mean(List)\n",
    "\n",
    "Squared_Sum = sum((i - Mean) ** 2 for i in List)\n",
    "Variance = (Squared_Sum / ((len(List)) - 1))\n",
    "\n",
    "Standard_Deviation = math.sqrt(Variance)\n",
    "print(\"Standard Deviation is:\" + str(Standard_Deviation))"
   ]
  },
  {
   "cell_type": "markdown",
   "metadata": {},
   "source": [
    "Variations of Deviation:\n",
    "\n",
    "(1) Mean Absolute Deviation <br>\n",
    "(2) Median Absolute Deviation"
   ]
  },
  {
   "cell_type": "code",
   "execution_count": null,
   "metadata": {},
   "outputs": [],
   "source": []
  }
 ],
 "metadata": {
  "kernelspec": {
   "display_name": "Python 3",
   "language": "python",
   "name": "python3"
  },
  "language_info": {
   "codemirror_mode": {
    "name": "ipython",
    "version": 3
   },
   "file_extension": ".py",
   "mimetype": "text/x-python",
   "name": "python",
   "nbconvert_exporter": "python",
   "pygments_lexer": "ipython3",
   "version": "3.8.3"
  }
 },
 "nbformat": 4,
 "nbformat_minor": 4
}
